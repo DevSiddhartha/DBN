{
 "cells": [
  {
   "cell_type": "code",
   "execution_count": 5,
   "metadata": {},
   "outputs": [],
   "source": [
    "# Import NumPy and scikit-fuzzy\n",
    "import numpy as np\n",
    "import skfuzzy as fuzz\n",
    "import matplotlib.pyplot as plt"
   ]
  },
  {
   "cell_type": "code",
   "execution_count": 13,
   "metadata": {},
   "outputs": [],
   "source": [
    "weights = np.arange(0, 1.1, 0.1)\n"
   ]
  },
  {
   "cell_type": "code",
   "execution_count": 27,
   "metadata": {},
   "outputs": [],
   "source": [
    "weight_fuzzy = fuzz.trimf(weights, [0, 0.5, 1])"
   ]
  },
  {
   "cell_type": "code",
   "execution_count": 28,
   "metadata": {},
   "outputs": [
    {
     "data": {
      "image/png": "[encoded data removed]",
      "text/plain": [
       "<matplotlib.figure.Figure at 0x7f08f48fb550>"
      ]
     },
     "metadata": {},
     "output_type": "display_data"
    }
   ],
   "source": [
    "fig, ax = plt.subplots()\n",
    "\n",
    "ax.plot(weights, weight_fuzzy, 'r')\n",
    "ax.set_ylabel('Fuzzy membership')\n",
    "ax.set_xlabel('weights')\n",
    "ax.set_ylim(0, 1.05);"
   ]
  },
  {
   "cell_type": "code",
   "execution_count": 122,
   "metadata": {},
   "outputs": [],
   "source": [
    "import tensorflow as tf\n",
    "import numpy as np\n",
    "from tensorflow.examples.tutorials.mnist import input_data\n",
    "#!pip install pillow\n",
    "from PIL import Image\n",
    "#import Image\n",
    "\n",
    "import matplotlib.pyplot as plt\n",
    "%matplotlib inline"
   ]
  },
  {
   "cell_type": "code",
   "execution_count": 123,
   "metadata": {},
   "outputs": [
    {
     "name": "stdout",
     "output_type": "stream",
     "text": [
      "Extracting /home/sidjarvis10/anaconda3/lib/python3.6/site-packages/tensorflow/examples/tutorials/mnist/train-images-idx3-ubyte.gz\n",
      "Extracting /home/sidjarvis10/anaconda3/lib/python3.6/site-packages/tensorflow/examples/tutorials/mnist/train-labels-idx1-ubyte.gz\n",
      "Extracting /home/sidjarvis10/anaconda3/lib/python3.6/site-packages/tensorflow/examples/tutorials/mnist/t10k-images-idx3-ubyte.gz\n",
      "Extracting /home/sidjarvis10/anaconda3/lib/python3.6/site-packages/tensorflow/examples/tutorials/mnist/t10k-labels-idx1-ubyte.gz\n"
     ]
    }
   ],
   "source": [
    "from tensorflow.examples.tutorials.mnist import input_data\n",
    "\n",
    "#Loading in the mnist data\n",
    "mnist = input_data.read_data_sets(\"/home/sidjarvis10/anaconda3/lib/python3.6/site-packages/tensorflow/examples/tutorials/mnist\", one_hot=True)\n",
    "trX, trY, teX, teY = mnist.train.images, mnist.train.labels, mnist.test.images,\\\n",
    "    mnist.test.labels"
   ]
  },
  {
   "cell_type": "code",
   "execution_count": 134,
   "metadata": {},
   "outputs": [],
   "source": [
    "vb = tf.placeholder(\"float\", [784])\n",
    "a1 = tf.placeholder(\"float\", [784])\n",
    "a2 = tf.placeholder(\"float\", [500])\n",
    "hb = tf.placeholder(\"float\", [500])\n",
    "vb_l = tf.placeholder(\"float\", [784])\n",
    "hb_l = tf.placeholder(\"float\", [500])\n",
    "vb_r = tf.placeholder(\"float\", [784])\n",
    "hb_r = tf.placeholder(\"float\", [500])"
   ]
  },
  {
   "cell_type": "code",
   "execution_count": 135,
   "metadata": {},
   "outputs": [],
   "source": [
    "W = tf.placeholder(\"float\", [784, 500])\n",
    "a = tf.placeholder(\"float\", [784, 500])\n",
    "W_l = tf.placeholder(\"float\", [784, 500])\n",
    "W_r = tf.placeholder(\"float\", [784, 500])"
   ]
  },
  {
   "cell_type": "code",
   "execution_count": 136,
   "metadata": {},
   "outputs": [],
   "source": [
    "X = tf.placeholder(\"float\", [None, 784])\n",
    "_h0_l = tf.nn.sigmoid(tf.matmul(X, W_l) + hb_l)  #probabilities of the hidden units\n",
    "_h0_r = tf.nn.sigmoid(tf.matmul(X, W_r) + hb_r)\n",
    "h0_l = tf.nn.relu(tf.sign(_h0_l - tf.random_uniform(tf.shape(_h0_l)))) #sample_h_given_X\n",
    "h0_r = tf.nn.relu(tf.sign(_h0_r - tf.random_uniform(tf.shape(_h0_r)))) #sample_h_given_X"
   ]
  },
  {
   "cell_type": "code",
   "execution_count": 137,
   "metadata": {},
   "outputs": [],
   "source": [
    "_v1_l = tf.nn.sigmoid(tf.matmul(h0_l, tf.transpose(W_l)) + vb_l)\n",
    "_v1_r = tf.nn.sigmoid(tf.matmul(h0_r, tf.transpose(W_r)) + vb_r) \n",
    "v1_l = tf.nn.relu(tf.sign(_v1_l - tf.random_uniform(tf.shape(_v1_l)))) #sample_v_given_h\n",
    "v1_r = tf.nn.relu(tf.sign(_v1_r - tf.random_uniform(tf.shape(_v1_r)))) #sample_v_given_h\n",
    "h1_l = tf.nn.sigmoid(tf.matmul(v1_l, W_l) + hb_l)\n",
    "h1_r = tf.nn.sigmoid(tf.matmul(v1_r, W_r) + hb_r)\n"
   ]
  },
  {
   "cell_type": "code",
   "execution_count": 138,
   "metadata": {},
   "outputs": [],
   "source": [
    "alpha = 1.0\n",
    "w_pos_grad_l = tf.matmul(tf.transpose(X), h0_l)\n",
    "w_neg_grad_l = tf.matmul(tf.transpose(v1_l), h1_l)\n",
    "\n",
    "w_pos_grad_r = tf.matmul(tf.transpose(X), h0_r)\n",
    "w_neg_grad_r = tf.matmul(tf.transpose(v1_r), h1_r)\n",
    "\n",
    "CD_l = (w_pos_grad_l - w_neg_grad_l) / tf.to_float(tf.shape(X)[0])\n",
    "CD_r = (w_pos_grad_r - w_neg_grad_r) / tf.to_float(tf.shape(X)[0])\n",
    "\n",
    "update_w_l = W_l + alpha * CD_l\n",
    "update_vb_l = vb_l + alpha * tf.reduce_mean(X - v1_l, 0)\n",
    "update_hb_l = hb_l + alpha * tf.reduce_mean(h0_l - h1_l, 0)\n",
    "\n",
    "update_w_r = W_r + alpha * CD_r\n",
    "update_vb_r = vb_r + alpha * tf.reduce_mean(X - v1_r, 0)\n",
    "update_hb_r = hb_r + alpha * tf.reduce_mean(h0_r - h1_r, 0)"
   ]
  },
  {
   "cell_type": "code",
   "execution_count": 152,
   "metadata": {},
   "outputs": [],
   "source": [
    "err1 = tf.reduce_mean(tf.square(X - v1_l))\n",
    "err2 = tf.reduce_mean(tf.square(X - v1_r))\n",
    "err3= err1 + err2\n",
    "cur_w_l = np.zeros([784, 500], np.float32)\n",
    "cur_w_r = np.ones([784, 500], np.float32)\n",
    "cur_vb_l = np.zeros([784], np.float32)\n",
    "cur_vb_r = np.ones([784], np.float32)\n",
    "cur_hb_l = np.zeros([500], np.float32)\n",
    "cur_hb_r = np.ones([500], np.float32)\n",
    "prv_w_l = np.zeros([784, 500], np.float32)\n",
    "prv_w_r = np.ones([784, 500], np.float32)\n",
    "prv_vb_l = np.zeros([784], np.float32)\n",
    "prv_vb_r = np.ones([784], np.float32)\n",
    "prv_hb_l = np.zeros([500], np.float32)\n",
    "prv_hb_r = np.ones([500], np.float32)\n",
    "#a=tf.div((tf.add(prv_w_l, prv_w_r)), 2)\n",
    "#a1=tf.div((tf.add(prv_vb_l , prv_vb_r)), 2)\n",
    "#a2=tf.div((tf.add(prv_hb_l , prv_hb_r)),2)\n",
    "sess = tf.Session()\n",
    "init = tf.global_variables_initializer()\n",
    "sess.run(init)"
   ]
  },
  {
   "cell_type": "code",
   "execution_count": 154,
   "metadata": {},
   "outputs": [
    {
     "name": "stdout",
     "output_type": "stream",
     "text": [
      "0.48152158\n",
      "0.8500987\n"
     ]
    }
   ],
   "source": [
    "print(sess.run(err1, feed_dict={X: trX, W_l: prv_w_l , vb_l: prv_vb_l , hb_l: prv_hb_l}))\n",
    "print(sess.run(err2, feed_dict={X: trX, W_r: prv_w_r , vb_r: prv_vb_r , hb_r: prv_hb_r}))\n",
    "\n"
   ]
  },
  {
   "cell_type": "code",
   "execution_count": 182,
   "metadata": {},
   "outputs": [
    {
     "name": "stdout",
     "output_type": "stream",
     "text": [
      "Epoch: 0 reconstruction error for 1: 0.043299\n",
      "Epoch: 0 reconstruction error for 2: 0.096744\n",
      "Epoch: 1 reconstruction error for 1: 0.043387\n",
      "Epoch: 1 reconstruction error for 2: 0.095535\n",
      "Epoch: 2 reconstruction error for 1: 0.042483\n",
      "Epoch: 2 reconstruction error for 2: 0.093774\n",
      "Epoch: 3 reconstruction error for 1: 0.042853\n",
      "Epoch: 3 reconstruction error for 2: 0.091861\n",
      "Epoch: 4 reconstruction error for 1: 0.042395\n",
      "Epoch: 4 reconstruction error for 2: 0.090170\n",
      "Epoch: 5 reconstruction error for 1: 0.042316\n",
      "Epoch: 5 reconstruction error for 2: 0.088442\n",
      "Epoch: 6 reconstruction error for 1: 0.042104\n",
      "Epoch: 6 reconstruction error for 2: 0.086143\n",
      "Epoch: 7 reconstruction error for 1: 0.042070\n",
      "Epoch: 7 reconstruction error for 2: 0.084092\n",
      "Epoch: 8 reconstruction error for 1: 0.041670\n",
      "Epoch: 8 reconstruction error for 2: 0.082638\n",
      "Epoch: 9 reconstruction error for 1: 0.041488\n",
      "Epoch: 9 reconstruction error for 2: 0.080444\n",
      "Epoch: 10 reconstruction error for 1: 0.042181\n",
      "Epoch: 10 reconstruction error for 2: 0.079517\n",
      "Epoch: 11 reconstruction error for 1: 0.040996\n",
      "Epoch: 11 reconstruction error for 2: 0.078244\n",
      "Epoch: 12 reconstruction error for 1: 0.041522\n",
      "Epoch: 12 reconstruction error for 2: 0.076807\n",
      "Epoch: 13 reconstruction error for 1: 0.041411\n",
      "Epoch: 13 reconstruction error for 2: 0.076508\n",
      "Epoch: 14 reconstruction error for 1: 0.040936\n",
      "Epoch: 14 reconstruction error for 2: 0.075374\n",
      "Epoch: 15 reconstruction error for 1: 0.040711\n",
      "Epoch: 15 reconstruction error for 2: 0.074193\n",
      "Epoch: 16 reconstruction error for 1: 0.040974\n",
      "Epoch: 16 reconstruction error for 2: 0.073371\n",
      "Epoch: 17 reconstruction error for 1: 0.040495\n",
      "Epoch: 17 reconstruction error for 2: 0.072719\n",
      "Epoch: 18 reconstruction error for 1: 0.040390\n",
      "Epoch: 18 reconstruction error for 2: 0.071943\n",
      "Epoch: 19 reconstruction error for 1: 0.040778\n",
      "Epoch: 19 reconstruction error for 2: 0.071020\n",
      "(120,)\n"
     ]
    },
    {
     "data": {
      "image/png": "[encoded data removed]",
      "text/plain": [
       "<matplotlib.figure.Figure at 0x7f08cd93fdd8>"
      ]
     },
     "metadata": {},
     "output_type": "display_data"
    }
   ],
   "source": [
    "#Parameters\n",
    "epochs = 20\n",
    "batchsize = 100\n",
    "weights = []\n",
    "errors1 = []\n",
    "errors2 = []\n",
    "errors3=[]\n",
    "\n",
    "for epoch in range(epochs):\n",
    "    for start, end in zip( range(0, len(trX), batchsize), range(batchsize, len(trX), batchsize)):\n",
    "        batch = trX[start:end]\n",
    "        cur_w_l = sess.run(update_w_l, feed_dict={ X: batch, W_l: prv_w_l, vb_l: prv_vb_l, hb_l: prv_hb_l})\n",
    "        cur_vb_l = sess.run(update_vb_l, feed_dict={  X: batch, W_l: prv_w_l, vb_l: prv_vb_l, hb_l: prv_hb_l})\n",
    "        cur_hb_l = sess.run(update_hb_l, feed_dict={ X: batch, W_l: prv_w_l, vb_l: prv_vb_l, hb_l: prv_hb_l})\n",
    "        cur_w_r = sess.run(update_w_r, feed_dict={ X: batch, W_r: prv_w_r, vb_r: prv_vb_r, hb_r: prv_hb_r})\n",
    "        cur_vb_r = sess.run(update_vb_r, feed_dict={  X: batch, W_r: prv_w_r, vb_r: prv_vb_r, hb_r: prv_hb_r})\n",
    "        cur_hb_r = sess.run(update_hb_r, feed_dict={ X: batch, W_r: prv_w_r, vb_r: prv_vb_r, hb_r: prv_hb_r})\n",
    "        \n",
    "        prv_w_l = cur_w_l\n",
    "        prv_vb_l = cur_vb_l\n",
    "        prv_hb_l = cur_hb_l\n",
    "        \n",
    "        prv_w_r = cur_w_r\n",
    "        prv_vb_r = cur_vb_r\n",
    "        prv_hb_r = cur_hb_r\n",
    "        if start % 10000 == 0:\n",
    "            errors1.append(sess.run(err1, feed_dict={X: trX, W_l: cur_w_l, vb_l: cur_vb_l, hb_l: cur_hb_l}))\n",
    "            #weights.append(cur_w)\n",
    "            errors2.append(sess.run(err2, feed_dict={X: trX, W_r: cur_w_r, vb_r: cur_vb_r, hb_r: cur_hb_r}))\n",
    "            #weights.append(cur_w)\n",
    "    print ('Epoch: %d' % epoch,'reconstruction error for 1: %f' % errors1[-1])\n",
    "    print ('Epoch: %d' % epoch,'reconstruction error for 2: %f' % errors2[-1])\n",
    "print(np.shape(errors1))    \n",
    "errors3 = np.divide((np.add(errors1 , errors2)),2)\n",
    "plt.plot(errors1,'r')\n",
    "plt.plot(errors2, 'm')\n",
    "plt.plot(errors3, 'ForestGreen')\n",
    "plt.xlabel(\"Batch Number\")\n",
    "plt.ylabel(\"Error\")\n",
    "plt.show()"
   ]
  }
 ],
 "metadata": {
  "kernelspec": {
   "display_name": "Python 3",
   "language": "python",
   "name": "python3"
  },
  "language_info": {
   "codemirror_mode": {
    "name": "ipython",
    "version": 3
   },
   "file_extension": ".py",
   "mimetype": "text/x-python",
   "name": "python",
   "nbconvert_exporter": "python",
   "pygments_lexer": "ipython3",
   "version": "3.6.4"
  }
 },
 "nbformat": 4,
 "nbformat_minor": 2
}
